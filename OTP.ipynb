{
  "nbformat": 4,
  "nbformat_minor": 0,
  "metadata": {
    "colab": {
      "name": "OTP.ipynb",
      "provenance": [],
      "collapsed_sections": [],
      "authorship_tag": "ABX9TyML7E1FHWSxMKVL0CnB1PmE",
      "include_colab_link": true
    },
    "kernelspec": {
      "name": "python3",
      "display_name": "Python 3"
    },
    "language_info": {
      "name": "python"
    }
  },
  "cells": [
    {
      "cell_type": "markdown",
      "metadata": {
        "id": "view-in-github",
        "colab_type": "text"
      },
      "source": [
        "<a href=\"https://colab.research.google.com/github/yashrajAV/OTP/blob/main/OTP.ipynb\" target=\"_parent\"><img src=\"https://colab.research.google.com/assets/colab-badge.svg\" alt=\"Open In Colab\"/></a>"
      ]
    },
    {
      "cell_type": "code",
      "source": [
        "import os\n",
        "import math\n",
        "import random\n",
        "import smtplib"
      ],
      "metadata": {
        "id": "5psGYZHdpfVi"
      },
      "execution_count": 2,
      "outputs": []
    },
    {
      "cell_type": "code",
      "source": [
        "digits=\"0123456789\"\n",
        "OTP= \"\"\n",
        "for i in range(5):\n",
        "    OTP += digits[math.floor(random.random()*10)] \n",
        "otp = \"Your OTP is \" + OTP \n",
        "msg= otp\n",
        "s = smtplib.SMTP('smtp.gmail.com', 587)\n",
        "s.starttls()\n",
        "s.login(\"yashrajmsbi@gmail.com\", \"znfwupflkedmlees\")\n",
        "emailid = input(\"Enter your email: \")\n",
        "s.sendmail('&&&&&&&&&&&',emailid,msg)\n",
        "a = input(\"Enter Your OTP >>: \")\n",
        "while a != OTP:\n",
        "  print(\"Please Check your OTP again\")\n",
        "  a = input(\"Enter Your OTP >>: \")\n",
        "else:\n",
        "    print(\"Verified\")"
      ],
      "metadata": {
        "colab": {
          "base_uri": "https://localhost:8080/"
        },
        "id": "72ZmfwzKpoD_",
        "outputId": "267cdb95-4028-4faf-af48-191cc7eefd34"
      },
      "execution_count": 13,
      "outputs": [
        {
          "output_type": "stream",
          "name": "stdout",
          "text": [
            "Enter your email: yashrajavtrade@gmail.com\n",
            "Enter Your OTP >>: 45612\n",
            "Please Check your OTP again\n",
            "Enter Your OTP >>: 22505\n",
            "Verified\n"
          ]
        }
      ]
    }
  ]
}